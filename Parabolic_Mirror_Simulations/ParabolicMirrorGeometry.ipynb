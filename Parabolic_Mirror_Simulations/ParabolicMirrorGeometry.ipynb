{
 "cells": [
  {
   "cell_type": "markdown",
   "metadata": {},
   "source": [
    "### This file runs the simulation of the geometry of the parabolic mirror ion trap, mainly used to simulate changes one would want to make without having to run the entire simulation"
   ]
  },
  {
   "cell_type": "code",
   "execution_count": 1,
   "metadata": {},
   "outputs": [],
   "source": [
    "import numpy as np\n",
    "from matplotlib import pyplot as plt\n",
    "import time\n",
    "from numba import njit,prange"
   ]
  },
  {
   "cell_type": "code",
   "execution_count": 4,
   "metadata": {},
   "outputs": [],
   "source": [
    "@njit(boundscheck=True)\n",
    "def FDM_BIv03(Vrf, Vdc):\n",
    "    \n",
    "    #Define the parameters that make up your trap\n",
    "    #For the mirror ** For now, just assume there is no hole at the bottom or holes for the slits, and mirror takes up all of lower surface **\n",
    "    Hmirror = .00323; #mirror height\n",
    "    Ropening = .00508; # radius at Hmirror\n",
    "    #for the top endcap\n",
    "    Htopcap = 0.0035; #distance from bottom of mirror to bottom of top end cap\n",
    "    Ttopcap = .001; #thickness of top end cap\n",
    "    PlateWidth = 0.013; #width of bias plate arms\n",
    "    PlateLength = 0.01; # From center of mirror point to bias plate edge\n",
    "    TGroundPlate = 0.001; #Thickness of grounded plate on top of Bias plates\n",
    "    #for the needle\n",
    "    Hneedle = -0.0004; #height of needle inside trap up until the beginning of the needle tip\n",
    "    Rneedle = 0.00023; #radius of needle\n",
    "    HneedleTip = 0.0024; # height of needle tip from needle body\n",
    "    RneedleTip = 0.00002; # the ball at the top of the needle to avoid fringing effects\n",
    "    \n",
    "    #Properties of our grid\n",
    "    gmax = 0.0075 # defining the size of the world (meters)\n",
    "    points = 201 # This is how many points are in your world, a higher number will have higher resolution but take longer\n",
    "    steps = points - 1\n",
    "    x = np.linspace(-gmax, gmax, points) # space on x-axis\n",
    "    y = np.linspace(-gmax, gmax, points) # space on y-axis\n",
    "    z = np.linspace(0, 2*gmax, points) # space on z-axis\n",
    "    size = len(x)\n",
    "    sizeZ = len(z)\n",
    "    xmid = int((size)/2)\n",
    "    ymid = int((size)/2)\n",
    "    zmid = int((sizeZ)/2)\n",
    "    lattice_points=np.zeros((size**3,3))\n",
    "    marker=0 \n",
    "\n",
    "    \n",
    "    V0 = np.zeros((size, size, size)) #initialize the matrix for electric potential\n",
    "    V0dc= np.zeros((size, size, size))\n",
    "    V0_temp=np.zeros((size, size, size))\n",
    "    V0dc_temp=np.zeros((size, size, size))\n",
    "    cords=np.zeros((size, size, size, 3))\n",
    "    iterations = 600 #number of iterations, more precise values with higher iterations, but again, takes longer, doesn't effect anything in this document.\n",
    "    CenterV = np.zeros((iterations, 1)) #keep track of the potential value at the center at each iteration\n",
    "    \n",
    "    \n",
    "    #Now define the boundry conditions\n",
    "\n",
    "    for i in range(len(x)):\n",
    "        for j in range(len(y)):\n",
    "            for k in range(len(z)):\n",
    "                cords[i, j, k] = [i, j, k]\n",
    "                \n",
    "                #Arm one of Bias plates\n",
    "                if ((x[i] >= -PlateWidth/2) and (x[i] <= PlateWidth/2) and (y[j] > Ropening) and (z[k] > Htopcap) and (z[k] < (Htopcap + Ttopcap))):\n",
    "                    V0[i, j, k] = Vrf[0]\n",
    "                    V0dc[i, j, k] = Vdc[0]\n",
    "                #Arm Two of bias plate\n",
    "                elif ((y[j] >= -PlateWidth/2) and (y[j] <= PlateWidth/2) and (x[i] > Ropening) and (z[k] > Htopcap) and (z[k] < (Htopcap + Ttopcap))):\n",
    "                    V0[i, j, k] = Vrf[0]\n",
    "                    V0dc[i, j, k] = Vdc[0]\n",
    "                #Arm three of bias plate\n",
    "                elif ((x[i] >= -PlateWidth/2) and (x[i] <= PlateWidth/2) and (y[j] < -Ropening) and (z[k] > Htopcap) and (z[k] < (Htopcap + Ttopcap))):\n",
    "                    V0[i, j, k] = Vrf[0]\n",
    "                    V0dc[i, j, k] = Vdc[0]\n",
    "                #Arm four of bias plate\n",
    "                elif ((y[j] >= -PlateWidth/2) and (y[j] <= PlateWidth/2) and (x[i] < -Ropening) and (z[k] > Htopcap) and (z[k] < (Htopcap + Ttopcap))):\n",
    "                    V0[i, j, k] = Vrf[0]\n",
    "                    V0dc[i, j, k] = Vdc[0]\n",
    "                    \n",
    "                #Grounded top plate\n",
    "                 #Arm one of Grounded plates\n",
    "                elif ((x[i] >= -PlateWidth/2) and (x[i] <= PlateWidth/2) and (y[j] > Ropening) and (z[k] > Htopcap + Ttopcap+ 0.0002) and (z[k] < (Htopcap + Ttopcap + TGroundPlate +0.0002))):\n",
    "                    V0[i, j, k] = Vrf[3]\n",
    "                    V0dc[i, j, k] = Vdc[3]\n",
    "                #Arm Two of Grounded plate\n",
    "                elif ((y[j] >= -PlateWidth/2) and (y[j] <= PlateWidth/2) and (x[i] > Ropening) and (z[k] > Htopcap + Ttopcap+ 0.0002) and (z[k] < (Htopcap + Ttopcap + TGroundPlate +0.0002))):\n",
    "                    V0[i, j, k] = Vrf[3]\n",
    "                    V0dc[i, j, k] = Vdc[3]\n",
    "                #Arm three of grounded plate\n",
    "                elif ((x[i] >= -PlateWidth/2) and (x[i] <= PlateWidth/2) and (y[j] < -Ropening) and (z[k] > Htopcap + Ttopcap+ 0.0002) and (z[k] < (Htopcap + Ttopcap + TGroundPlate +0.0002))):\n",
    "                    V0[i, j, k] = Vrf[3]\n",
    "                    V0dc[i, j, k] = Vdc[3]\n",
    "                #Arm four of grounded plate\n",
    "                elif ((y[j] >= -PlateWidth/2) and (y[j] <= PlateWidth/2) and (x[i] < -Ropening) and (z[k] > Htopcap + Ttopcap+ 0.0002) and (z[k] < (Htopcap + Ttopcap + TGroundPlate +0.0002))):\n",
    "                    V0[i, j, k] = Vrf[3]\n",
    "                    V0dc[i, j, k] = Vdc[3]\n",
    "                \n",
    "                #The mirror\n",
    "                elif ((z[k] > 0) and (z[k] < Hmirror) and (z[k] <= (Hmirror / Ropening**2) * (x[i]**2 + y[j]**2))):\n",
    "                    V0[i, j, k] = Vrf[1]\n",
    "                    V0dc[i, j, k] = Vdc[1]\n",
    "                \n",
    "                #The needle body\n",
    "                elif ((y[j] < np.sqrt(Rneedle - x[i]**2)) and (x[i] < Rneedle) and (x[i] > -Rneedle) and (y[j] > -np.sqrt(Rneedle - x[i]**2)) and (y[j] < Rneedle) and (y[j] > -Rneedle) and (z[k] > 0) and (z[k] < Hneedle)):\n",
    "                    V0[i, j, k] = Vrf[2]\n",
    "                    V0dc[i, j, k] = Vdc[2]\n",
    "                #The needle tip\n",
    "                elif ((z[k] < - np.sqrt(x[i]**2 + y[j]**2)*12.5 +0.002) and (x[i] < Rneedle) and (x[i] > -Rneedle) and (y[j] > -Rneedle) and (y[j] < Rneedle) and (z[k] > Hneedle) and (z[k] < Hneedle + HneedleTip)):\n",
    "                    V0[i, j, k] = Vrf[2]\n",
    "                    V0dc[i, j, k] = Vdc[2]\n",
    "                #the very tip of the needle (to avoid fringing effects)\n",
    "                elif ((z[k] > 0.0019) and (z[k]< 0.0021) and (z[k] < np.sqrt(RneedleTip**2 - x[i]**2 - y[j]**2) + 0.002)):\n",
    "                    V0[i, j, k] = Vrf[4]\n",
    "                    V0dc[i, j, k] = Vdc[4]\n",
    "                    \n",
    "                #In the space with no electrodes:\n",
    "                else:\n",
    "                    V0[i, j, k] = 0\n",
    "                    V0dc[i, j, k] = 0\n",
    "                    lattice_points[marker]=[i,j,k]\n",
    "                    marker+=1\n",
    "                    \n",
    "    lattice_points=lattice_points[0:marker]\n",
    "                \n",
    "    V0_temp=V0    \n",
    "    V0dc_temp=V0dc\n",
    "    \n",
    "    return V0,V0dc,CenterV,lattice_points,cords"
   ]
  },
  {
   "cell_type": "code",
   "execution_count": 5,
   "metadata": {},
   "outputs": [
    {
     "name": "stdout",
     "output_type": "stream",
     "text": [
      "Start Time is  1600879769.7951684\n",
      "time elapsed =  5.791739225387573\n"
     ]
    }
   ],
   "source": [
    "#Voltages used in the simulation\n",
    "RF=np.array([0, 1, 1,1, 2]) #corresponding to each portion of the mirror geometry\n",
    "DC=np.array([1, 1, 1, 1, 2])\n",
    "\n",
    "start=time.time() # Records the time started.\n",
    "\n",
    "A=FDM_BIv03(RF,DC) # Runs the simulation\n",
    "\n",
    "print(\"The time elapsed is \",time.time()-start, \"seconds\")"
   ]
  },
  {
   "cell_type": "code",
   "execution_count": 7,
   "metadata": {},
   "outputs": [
    {
     "data": {
      "text/plain": [
       "<matplotlib.image.AxesImage at 0x1d9c8aa2408>"
      ]
     },
     "execution_count": 7,
     "metadata": {},
     "output_type": "execute_result"
    },
    {
     "data": {
      "image/png": "[encoded data removed]",
      "text/plain": [
       "<Figure size 432x288 with 1 Axes>"
      ]
     },
     "metadata": {
      "needs_background": "light"
     },
     "output_type": "display_data"
    }
   ],
   "source": [
    "#Plotting the resulting geometry\n",
    "\n",
    "plt.imshow(A[0][:,100,:], cmap=plt.cm.get_cmap('viridis', 20)) #plotting the x-z axis cross section for the RF"
   ]
  },
  {
   "cell_type": "code",
   "execution_count": null,
   "metadata": {},
   "outputs": [],
   "source": []
  }
 ],
 "metadata": {
  "kernelspec": {
   "display_name": "Python 3",
   "language": "python",
   "name": "python3"
  },
  "language_info": {
   "codemirror_mode": {
    "name": "ipython",
    "version": 3
   },
   "file_extension": ".py",
   "mimetype": "text/x-python",
   "name": "python",
   "nbconvert_exporter": "python",
   "pygments_lexer": "ipython3",
   "version": "3.7.6"
  }
 },
 "nbformat": 4,
 "nbformat_minor": 4
}
